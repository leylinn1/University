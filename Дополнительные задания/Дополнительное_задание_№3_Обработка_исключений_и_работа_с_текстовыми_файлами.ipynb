{
  "cells": [
    {
      "cell_type": "markdown",
      "metadata": {
        "id": "view-in-github",
        "colab_type": "text"
      },
      "source": [
        "<a href=\"https://colab.research.google.com/github/leylinn1/University/blob/main/%D0%94%D0%BE%D0%BF%D0%BE%D0%BB%D0%BD%D0%B8%D1%82%D0%B5%D0%BB%D1%8C%D0%BD%D1%8B%D0%B5%20%D0%B7%D0%B0%D0%B4%D0%B0%D0%BD%D0%B8%D1%8F/%D0%94%D0%BE%D0%BF%D0%BE%D0%BB%D0%BD%D0%B8%D1%82%D0%B5%D0%BB%D1%8C%D0%BD%D0%BE%D0%B5_%D0%B7%D0%B0%D0%B4%D0%B0%D0%BD%D0%B8%D0%B5_%E2%84%963_%D0%9E%D0%B1%D1%80%D0%B0%D0%B1%D0%BE%D1%82%D0%BA%D0%B0_%D0%B8%D1%81%D0%BA%D0%BB%D1%8E%D1%87%D0%B5%D0%BD%D0%B8%D0%B9_%D0%B8_%D1%80%D0%B0%D0%B1%D0%BE%D1%82%D0%B0_%D1%81_%D1%82%D0%B5%D0%BA%D1%81%D1%82%D0%BE%D0%B2%D1%8B%D0%BC%D0%B8_%D1%84%D0%B0%D0%B9%D0%BB%D0%B0%D0%BC%D0%B8.ipynb\" target=\"_parent\"><img src=\"https://colab.research.google.com/assets/colab-badge.svg\" alt=\"Open In Colab\"/></a>"
      ]
    },
    {
      "cell_type": "markdown",
      "id": "bb332bf9",
      "metadata": {
        "id": "bb332bf9"
      },
      "source": [
        "# **Дополнительное задание №3. Обработка исключений и работа с текстовыми файлами**"
      ]
    },
    {
      "cell_type": "markdown",
      "id": "aa6808db",
      "metadata": {
        "id": "aa6808db"
      },
      "source": [
        "**БАЗА:**\n",
        "\n",
        "- **Обработка исключений** позволяет перехватывать и обрабатывать ошибки, возникающие при выполнении программы, предотвращая её аварийное завершение.\n",
        "- **Работа с файлами** - важный навык для чтения, записи и обработки текстовой информации в Python.\n",
        "\n",
        "---"
      ]
    },
    {
      "cell_type": "markdown",
      "id": "2478deca",
      "metadata": {
        "id": "2478deca"
      },
      "source": [
        "## **I. Обработка исключений**"
      ]
    },
    {
      "cell_type": "markdown",
      "id": "0ab0b851",
      "metadata": {
        "id": "0ab0b851"
      },
      "source": [
        "### **Пункт №1. Обработка некорректного индекса (IndexError)**"
      ]
    },
    {
      "cell_type": "markdown",
      "id": "46e69e1f",
      "metadata": {
        "id": "46e69e1f"
      },
      "source": [
        "Создайте список из нескольких элементов (например, [10, 20, 30]). Попросите пользователя ввести индекс элемента, который нужно вывести. Если пользователь введёт индекс, выходящий за границы списка, перехватите IndexError и сообщите об этом.\n",
        "\n",
        "**ОБЯЗАТЕЛЬНО:**\n",
        "- Создайте список из минимум 5 элементов\n",
        "- Покажите содержимое списка перед работой\n",
        "- Протестируйте минимум 4 случая (корректный индекс, отрицательный, слишком большой, нечисловое значение)"
      ]
    },
    {
      "cell_type": "code",
      "execution_count": null,
      "id": "724c5954",
      "metadata": {
        "id": "724c5954",
        "outputId": "c84fab9c-f5f8-465d-b8e3-4a8bcfbec145",
        "colab": {
          "base_uri": "https://localhost:8080/"
        }
      },
      "outputs": [
        {
          "output_type": "stream",
          "name": "stdout",
          "text": [
            "Список чисел: [10, 20, 30, 40, 50]\n",
            "Введите индекс элемента, который хотите вывести: 1\n",
            "Элемент с индексом 1 равен 20\n"
          ]
        }
      ],
      "source": [
        "numbers = [10, 20, 30, 40, 50]\n",
        "\n",
        "print(\"Список чисел:\", numbers)\n",
        "index_input = input(\"Введите индекс элемента, который хотите вывести: \")\n",
        "\n",
        "try:\n",
        "    index = int(index_input)\n",
        "    print(\"Элемент с индексом\", index, \"равен\", numbers[index])\n",
        "\n",
        "except ValueError:\n",
        "    print(\"Ошибка: индекс должен быть числом\")\n",
        "\n",
        "except IndexError:\n",
        "    print(\"Ошибка: индекс выходит за границы списка\")\n",
        "\n",
        "\n"
      ]
    },
    {
      "cell_type": "markdown",
      "id": "7ac84eec",
      "metadata": {
        "id": "7ac84eec"
      },
      "source": [
        "---"
      ]
    },
    {
      "cell_type": "markdown",
      "id": "f8bfb6e1",
      "metadata": {
        "id": "f8bfb6e1"
      },
      "source": [
        "### **Пункт №2. Обработка исключений в цикле**"
      ]
    },
    {
      "cell_type": "markdown",
      "id": "63c3b706",
      "metadata": {
        "id": "63c3b706"
      },
      "source": [
        "Напишите программу, которая запрашивает у пользователя числа и добавляет их в список.\n",
        "- Если пользователь вводит некорректные данные, программа должна выводить сообщение об ошибке и продолжать работу.\n",
        "- Для выхода из программы пользователь должен ввести \"стоп\".\n",
        "\n",
        "**ОБЯЗАТЕЛЬНО:**\n",
        "- Покажите процесс ввода минимум 7 значений (включая ошибочные)\n",
        "- Выведите финальный список и статистику (сколько чисел введено успешно, сколько ошибок)"
      ]
    },
    {
      "cell_type": "markdown",
      "source": [
        "\n",
        "\n",
        "```\n",
        "# Пример:\n",
        "# Введите число: 10\n",
        "# Введите число: текст (Ошибка: это не число)\n",
        "# Введите число: стоп\n",
        "# Итоговый список: [10]\n",
        "```\n",
        "\n"
      ],
      "metadata": {
        "id": "aiWaEPOuoHDS"
      },
      "id": "aiWaEPOuoHDS"
    },
    {
      "cell_type": "code",
      "execution_count": null,
      "id": "31448e09",
      "metadata": {
        "id": "31448e09",
        "outputId": "95caaf9c-0457-419b-b694-3a5ec43d3ca0",
        "colab": {
          "base_uri": "https://localhost:8080/"
        }
      },
      "outputs": [
        {
          "output_type": "stream",
          "name": "stdout",
          "text": [
            "Введите числа (для выхода введите 'стоп'):\n",
            "Введите число: 10\n",
            "Введите число: 57\n",
            "Введите число: ываы\n",
            "Ошибка:это не число\n",
            "Введите число: 1232\n",
            "Введите число: 52\n",
            "Введите число: 13\n",
            "Введите число: При\n",
            "Ошибка:это не число\n",
            "Введите число: стоп\n",
            "Итоговый список: [10.0, 57.0, 1232.0, 52.0, 13.0]\n",
            "Успешно введено числе: 5\n",
            "Колличество ошибок: 2\n"
          ]
        }
      ],
      "source": [
        "numbers = []\n",
        "errors = 0\n",
        "print(\"Введите числа (для выхода введите 'стоп'):\")\n",
        "while True:\n",
        "  input_user = input('Введите число: ')\n",
        "  if input_user == 'стоп':\n",
        "    break\n",
        "  try:\n",
        "    number = float(input_user)\n",
        "    numbers.append(number)\n",
        "  except ValueError:\n",
        "    print('Ошибка:это не число')\n",
        "    errors = errors + 1\n",
        "print('Итоговый список:', numbers)\n",
        "print('Успешно введено числе:', len(numbers))\n",
        "print('Колличество ошибок:', errors)\n",
        "\n"
      ]
    },
    {
      "cell_type": "markdown",
      "metadata": {
        "id": "Yv-FNYTEp0vV"
      },
      "source": [
        "---"
      ],
      "id": "Yv-FNYTEp0vV"
    },
    {
      "cell_type": "markdown",
      "id": "5971f85d",
      "metadata": {
        "id": "5971f85d"
      },
      "source": [
        "### **Пункт №3**"
      ]
    },
    {
      "cell_type": "markdown",
      "id": "b1457074",
      "metadata": {
        "id": "b1457074"
      },
      "source": [
        "Создайте функцию `get_list_element(lst, index)`, которая безопасно извлекает элемент списка по индексу с использованием блоков `try`, `except`, `else` и `finally`.\n",
        "\n",
        "Функция должна:\n",
        "- Обрабатывать выход за пределы списка\n",
        "- Обрабатывать некорректный тип индекса\n",
        "- Выводить сообщение о попытке доступа в блоке `finally`\n",
        "\n",
        "**ОБЯЗАТЕЛЬНО:**\n",
        "- Выведите результаты для минимум 4 различных случаев (успешный доступ, выход за границы, отрицательный индекс, нечисловой индекс)\n",
        "- Покажите, что блок `finally` выполняется всегда\n",
        "\n",
        "```python\n",
        "# Пример использования:\n",
        "my_list = [1, 2, 3, 4, 5]\n",
        "get_list_element(my_list, 2)   # Вывод: \"Элемент: 3\", \"Попытка доступа завершена\"\n",
        "get_list_element(my_list, 10)  # Вывод: \"Индекс вне диапазона\", \"Попытка доступа завершена\"\n",
        "```"
      ]
    },
    {
      "cell_type": "code",
      "execution_count": null,
      "id": "1c067cf3",
      "metadata": {
        "id": "1c067cf3",
        "outputId": "5fb5727e-ea8d-4d8f-c632-fd16646414bb",
        "colab": {
          "base_uri": "https://localhost:8080/"
        }
      },
      "outputs": [
        {
          "output_type": "stream",
          "name": "stdout",
          "text": [
            "Список: [1, 2, 3, 4, 5]\n",
            "Элемент: 3\n",
            "Попытка доступа завершена\n",
            "Элемент: 5\n",
            "Попытка доступа завершена\n",
            "Ошибка: индекс должен быть числом\n",
            "Попытка доступа завершена\n",
            "Ошибка: индекс вне диапазона\n",
            "Попытка доступа завершена\n"
          ]
        }
      ],
      "source": [
        "def get_list_element(lst, index):\n",
        "  try:\n",
        "    element = lst[index]\n",
        "  except IndexError:\n",
        "    print('Ошибка: индекс вне диапазона')\n",
        "  except TypeError:\n",
        "    print('Ошибка: индекс должен быть числом')\n",
        "  else:\n",
        "    print(f'Элемент: {element}')\n",
        "  finally:\n",
        "    print('Попытка доступа завершена')\n",
        "\n",
        "my_list = [1, 2, 3, 4, 5]\n",
        "print('Список:', my_list)\n",
        "\n",
        "get_list_element(my_list, 2)\n",
        "get_list_element(my_list, -1)\n",
        "get_list_element(my_list, 'a')\n",
        "get_list_element(my_list, 10)"
      ]
    },
    {
      "cell_type": "markdown",
      "id": "b5bb39c7",
      "metadata": {
        "id": "b5bb39c7"
      },
      "source": [
        "---"
      ]
    },
    {
      "cell_type": "markdown",
      "id": "b0972d59",
      "metadata": {
        "id": "b0972d59"
      },
      "source": [
        "## **II. Работа с текстовыми файлами**"
      ]
    },
    {
      "cell_type": "markdown",
      "id": "35729435",
      "metadata": {
        "id": "35729435"
      },
      "source": [
        "### **Пункт №1. Запись в файл**"
      ]
    },
    {
      "cell_type": "markdown",
      "id": "3121365f",
      "metadata": {
        "id": "3121365f"
      },
      "source": [
        "Напишите программу, которая запрашивает у пользователя строку и записывает её в файл output.txt в режиме дозаписи.\n",
        "\n",
        "**ОБЯЗАТЕЛЬНО:**\n",
        "- Запросите у пользователя минимум 3 строки\n",
        "- Покажите содержимое файла после записи"
      ]
    },
    {
      "cell_type": "code",
      "execution_count": null,
      "id": "cbce6c5f",
      "metadata": {
        "id": "cbce6c5f",
        "outputId": "c36ce6b6-e929-41b0-f863-0a0f91409f2f",
        "colab": {
          "base_uri": "https://localhost:8080/"
        }
      },
      "outputs": [
        {
          "output_type": "stream",
          "name": "stdout",
          "text": [
            "Введите 3 строки текста:\n",
            "Строка 1: wdjkla\n",
            "Строка 2: asdkjlas\n",
            "Строка 3: skajdha\n",
            "\n",
            "Содержимое файла после записи:\n",
            "рлдвы\n",
            "лыфовлюд.ф.\n",
            "\n",
            "ЫДОВЛА\n",
            "оывлаоыд\n",
            "олвыфрвллчяЦйвфы\n",
            "asdfkgdf.sla\n",
            "sak.dm.a\n",
            "dklsa;ld'as\n",
            "k,sdfjad\n",
            "kldas\n",
            "salkdj\n",
            "wdjkla\n",
            "asdkjlas\n",
            "skajdha\n",
            "\n"
          ]
        }
      ],
      "source": [
        "skadjfilename = \"output.txt\"\n",
        "print(\"Введите 3 строки текста:\")\n",
        "for i in range(3):\n",
        "    user_input = input(f\"Строка {i + 1}: \")\n",
        "    with open(filename, \"a\", encoding=\"utf-8\") as file:\n",
        "        file.write(user_input + \"\\n\")\n",
        "\n",
        "print(\"\\nСодержимое файла после записи:\")\n",
        "with open(filename, \"r\", encoding=\"utf-8\") as file:\n",
        "    content = file.read()\n",
        "    print(content)\n"
      ]
    },
    {
      "cell_type": "markdown",
      "id": "361b3d2b",
      "metadata": {
        "id": "361b3d2b"
      },
      "source": [
        "---"
      ]
    },
    {
      "cell_type": "markdown",
      "id": "cce864b4",
      "metadata": {
        "id": "cce864b4"
      },
      "source": [
        "### **Пункт №2. Чтение из файла**"
      ]
    },
    {
      "cell_type": "markdown",
      "id": "4fc83b82",
      "metadata": {
        "id": "4fc83b82"
      },
      "source": [
        "Напишите программу, которая открывает файл output.txt и выводит его содержимое на экран.\n",
        "\n",
        "**ОБЯЗАТЕЛЬНО:**\n",
        "- Создайте файл с минимум 5 строками текста\n",
        "- Покажите содержимое файла целиком\n",
        "- Обработайте случай отсутствующего файла"
      ]
    },
    {
      "cell_type": "code",
      "execution_count": null,
      "id": "df27a986",
      "metadata": {
        "id": "df27a986",
        "outputId": "28392138-2bbd-42b1-eb6d-2e8b14801740",
        "colab": {
          "base_uri": "https://localhost:8080/"
        }
      },
      "outputs": [
        {
          "output_type": "stream",
          "name": "stdout",
          "text": [
            "Содержимое файла:\n",
            "Первая строка\n",
            "Вторая строка\n",
            "Третья строка\n",
            "Четвёртая строка\n",
            "Пятая строка\n",
            "\n"
          ]
        }
      ],
      "source": [
        "filename = \"output.txt\"\n",
        "with open(filename, \"w\", encoding=\"utf-8\") as file:\n",
        "    file.write(\"Первая строка\\n\")\n",
        "    file.write(\"Вторая строка\\n\")\n",
        "    file.write(\"Третья строка\\n\")\n",
        "    file.write(\"Четвёртая строка\\n\")\n",
        "    file.write(\"Пятая строка\\n\")\n",
        "try:\n",
        "    with open(filename, \"r\", encoding=\"utf-8\") as file:\n",
        "        content = file.read()\n",
        "        print(\"Содержимое файла:\")\n",
        "        print(content)\n",
        "\n",
        "except FileNotFoundError:\n",
        "    print(f\"Ошибка: файл '{filename}' не найден!\")\n"
      ]
    },
    {
      "cell_type": "markdown",
      "id": "2be296a2",
      "metadata": {
        "id": "2be296a2"
      },
      "source": [
        "---"
      ]
    },
    {
      "cell_type": "markdown",
      "id": "045696ba",
      "metadata": {
        "id": "045696ba"
      },
      "source": [
        "### **Пункт №3. Подсчет строк в файле**"
      ]
    },
    {
      "cell_type": "markdown",
      "id": "570ac3e9",
      "metadata": {
        "id": "570ac3e9"
      },
      "source": [
        "Напишите программу, которая открывает файл output.txt и подсчитывает количество строк в нём.\n",
        "\n",
        "**ОБЯЗАТЕЛЬНО:**\n",
        "- Создайте тестовый файл с известным количеством строк (минимум 10)\n",
        "- Покажите первые 3 строки файла\n",
        "- Выведите общее количество строк\n",
        "- Выведите количество непустых строк"
      ]
    },
    {
      "cell_type": "code",
      "execution_count": null,
      "id": "84aa205a",
      "metadata": {
        "id": "84aa205a",
        "outputId": "7eabc736-5445-414a-d542-1e95deab8d5a",
        "colab": {
          "base_uri": "https://localhost:8080/"
        }
      },
      "outputs": [
        {
          "output_type": "stream",
          "name": "stdout",
          "text": [
            "Первые 3 строки файла:\n",
            "Первая строка\n",
            "Вторая строка\n",
            "Третья строка\n",
            "Общее количество строк: 10\n",
            "Количество непустых строк: 8\n"
          ]
        }
      ],
      "source": [
        "filename = \"output.txt\"\n",
        "with open(filename, \"w\", encoding=\"utf-8\") as file:\n",
        "    file.write(\"Первая строка\\n\")\n",
        "    file.write(\"Вторая строка\\n\")\n",
        "    file.write(\"Третья строка\\n\")\n",
        "    file.write(\"Четвёртая строка\\n\")\n",
        "    file.write(\"\\n\")\n",
        "    file.write(\"Пятая строка\\n\")\n",
        "    file.write(\"Шестая строка\\n\")\n",
        "    file.write(\"Седьмая строка\\n\")\n",
        "    file.write(\"\\n\")\n",
        "    file.write(\"Десятая строка\\n\")\n",
        "try:\n",
        "    with open(filename, \"r\", encoding=\"utf-8\") as file:\n",
        "        lines = file.readlines()\n",
        "        print(\"Первые 3 строки файла:\")\n",
        "        for line in lines[:3]:\n",
        "            print(line.strip())\n",
        "        total_lines = len(lines)\n",
        "        non_empty_lines = sum(1 for line in lines if line.strip())\n",
        "\n",
        "        print(\"Общее количество строк:\", total_lines)\n",
        "        print(\"Количество непустых строк:\", non_empty_lines)\n",
        "\n",
        "except FileNotFoundError:\n",
        "    print(f\"Ошибка: файл '{filename}' не найден!\")\n",
        "\n"
      ]
    },
    {
      "cell_type": "markdown",
      "id": "94c6dcb0",
      "metadata": {
        "id": "94c6dcb0"
      },
      "source": [
        "---"
      ]
    },
    {
      "cell_type": "markdown",
      "id": "56f2a74e",
      "metadata": {
        "id": "56f2a74e"
      },
      "source": [
        "### **Пункт №4. Копирование содержимого файла**"
      ]
    },
    {
      "cell_type": "markdown",
      "id": "ed736046",
      "metadata": {
        "id": "ed736046"
      },
      "source": [
        "Напишите программу, которая копирует содержимое файла input.txt в файл output.txt.\n",
        "\n",
        "**ОБЯЗАТЕЛЬНО:**\n",
        "- Создайте исходный файл с тестовым содержимым (минимум 5 строк)\n",
        "- Покажите содержимое исходного файла\n",
        "- Выполните копирование\n",
        "- Покажите содержимое скопированного файла\n",
        "- Обработайте случай отсутствия исходного файла"
      ]
    },
    {
      "cell_type": "code",
      "execution_count": null,
      "id": "31bd8a06",
      "metadata": {
        "id": "31bd8a06",
        "outputId": "089b0437-694c-40c6-da75-f50c4c401269",
        "colab": {
          "base_uri": "https://localhost:8080/"
        }
      },
      "outputs": [
        {
          "output_type": "stream",
          "name": "stdout",
          "text": [
            "Содержимое исходного файла (input.txt):\n",
            "Первая строка\n",
            "Вторая строка\n",
            "Третья строка\n",
            "Четвёртая строка\n",
            "Пятая строка\n",
            "\n",
            "Копирование выполнено успешно\n",
            "\n",
            "Содержимое скопированного файла (output.txt):\n",
            "Первая строка\n",
            "Вторая строка\n",
            "Третья строка\n",
            "Четвёртая строка\n",
            "Пятая строка\n",
            "\n"
          ]
        }
      ],
      "source": [
        "input_filename = \"input.txt\"\n",
        "output_filename = \"output.txt\"\n",
        "with open(input_filename, \"w\", encoding=\"utf-8\") as file:\n",
        "    file.write(\"Первая строка\\n\")\n",
        "    file.write(\"Вторая строка\\n\")\n",
        "    file.write(\"Третья строка\\n\")\n",
        "    file.write(\"Четвёртая строка\\n\")\n",
        "    file.write(\"Пятая строка\\n\")\n",
        "\n",
        "print(\"Содержимое исходного файла (input.txt):\")\n",
        "try:\n",
        "    with open(input_filename, \"r\", encoding=\"utf-8\") as file:\n",
        "        content = file.read()\n",
        "        print(content)\n",
        "except FileNotFoundError:\n",
        "    print(f\"Ошибка: файл '{input_filename}' не найден\")\n",
        "    exit()\n",
        "try:\n",
        "    with open(input_filename, \"r\", encoding=\"utf-8\") as src, open(output_filename, \"w\", encoding=\"utf-8\") as dst:\n",
        "        dst.write(src.read())\n",
        "    print(\"Копирование выполнено успешно\")\n",
        "except FileNotFoundError:\n",
        "    print(f\"Ошибка: исходный файл '{input_filename}' не найден\")\n",
        "print(\"\\nСодержимое скопированного файла (output.txt):\")\n",
        "try:\n",
        "    with open(output_filename, \"r\", encoding=\"utf-8\") as file:\n",
        "        print(file.read())\n",
        "except FileNotFoundError:\n",
        "    print(f\"Ошибка: файл '{output_filename}' не найден\")\n"
      ]
    },
    {
      "cell_type": "markdown",
      "id": "2f7c8ee5",
      "metadata": {
        "id": "2f7c8ee5"
      },
      "source": [
        "---"
      ]
    },
    {
      "cell_type": "markdown",
      "id": "70ee398b",
      "metadata": {
        "id": "70ee398b"
      },
      "source": [
        "### **Пункт №5. Поиск слова в файле**"
      ]
    },
    {
      "cell_type": "markdown",
      "id": "c67f8987",
      "metadata": {
        "id": "c67f8987"
      },
      "source": [
        "Напишите программу, которая открывает файл output.txt и проверяет, содержится ли в нём слово, введённое пользователем.\n",
        "\n",
        "**ОБЯЗАТЕЛЬНО:**\n",
        "- Создайте файл с минимум 10 строками текста\n",
        "- Покажите содержимое файла\n",
        "- Протестируйте поиск минимум 5 различных слов\n",
        "- Выведите номера строк, где найдено слово\n",
        "- Покажите количество вхождений слова"
      ]
    },
    {
      "cell_type": "code",
      "execution_count": null,
      "id": "d961bbf3",
      "metadata": {
        "id": "d961bbf3",
        "outputId": "50d3b8a7-4c1c-4eb1-a911-348c83d54470",
        "colab": {
          "base_uri": "https://localhost:8080/"
        }
      },
      "outputs": [
        {
          "output_type": "stream",
          "name": "stdout",
          "text": [
            "Содержимое файла:\n",
            "\n",
            "1: машина самолет кукареку\n",
            "2: человек хайп снегокат\n",
            "3: питон зебра крот\n",
            "4: слово строчка буква\n",
            "5: крутой великолепный пес\n",
            "6: большой плед дом пес\n",
            "7: сосиска гречка\n",
            "8: гвоздь английский самолет\n",
            "9: файл назад шаг кукареку\n",
            "10: думать мыслить козел\n",
            "\n",
            "Введите слово для поиска: кукареку\n",
            "Слово 'кукареку' найдено в строках: [1, 9]\n",
            "Количество вхождений: 2\n",
            "\n",
            "Введите слово для поиска: самолет\n",
            "Слово 'самолет' найдено в строках: [1, 8]\n",
            "Количество вхождений: 2\n",
            "\n",
            "Введите слово для поиска: гречка\n",
            "Слово 'гречка' найдено в строках: [7]\n",
            "Количество вхождений: 1\n",
            "\n",
            "Введите слово для поиска: машина\n",
            "Слово 'машина' найдено в строках: [1]\n",
            "Количество вхождений: 1\n",
            "\n",
            "Введите слово для поиска: питон\n",
            "Слово 'питон' найдено в строках: [3]\n",
            "Количество вхождений: 1\n"
          ]
        }
      ],
      "source": [
        "filename = \"output.txt\"\n",
        "with open(filename, \"w\", encoding=\"utf-8\") as f:\n",
        "    f.writelines([\n",
        "        \"машина самолет кукареку\\n\",\n",
        "        \"человек хайп снегокат\\n\",\n",
        "        \"питон зебра крот\\n\",\n",
        "        \"слово строчка буква\\n\",\n",
        "        \"крутой великолепный пес\\n\",\n",
        "        \"большой плед дом пес\\n\",\n",
        "        \"сосиска гречка\\n\",\n",
        "        \"гвоздь английский самолет\\n\",\n",
        "        \"файл назад шаг кукареку\\n\",\n",
        "        \"думать мыслить козел\\n\"])\n",
        "\n",
        "print(\"Содержимое файла:\\n\")\n",
        "with open(filename, \"r\", encoding=\"utf-8\") as f:\n",
        "    lines = f.readlines()\n",
        "    for i, line in enumerate(lines, 1):\n",
        "        print(f\"{i}: {line.strip()}\")\n",
        "\n",
        "def search_word(word):\n",
        "    line_numbers = []\n",
        "    count = 0\n",
        "    for i, line in enumerate(lines, 1):\n",
        "        if word in line:\n",
        "            line_numbers.append(i)\n",
        "            count += line.count(word)\n",
        "    return line_numbers, count\n",
        "\n",
        "for i in range(5):\n",
        "    word = input(\"\\nВведите слово для поиска: \")\n",
        "    line_nums, occurrences = search_word(word)\n",
        "    if line_nums:\n",
        "        print(f\"Слово '{word}' найдено в строках: {line_nums}\")\n",
        "        print(f\"Количество вхождений: {occurrences}\")\n",
        "    else:\n",
        "        print(f\"Слово '{word}' не найдено\")\n"
      ]
    },
    {
      "cell_type": "markdown",
      "id": "8d69c77a",
      "metadata": {
        "id": "8d69c77a"
      },
      "source": [
        "---"
      ]
    },
    {
      "cell_type": "markdown",
      "id": "0079e067",
      "metadata": {
        "id": "0079e067"
      },
      "source": [
        "### **Пункт №6. Чтение файла с обработкой FileNotFoundError**"
      ]
    },
    {
      "cell_type": "markdown",
      "id": "c3d27312",
      "metadata": {
        "id": "c3d27312"
      },
      "source": [
        "Напишите программу, которая запрашивает у пользователя имя файла и пытается открыть его. Если файла не существует, перехватите FileNotFoundError и выведите сообщение «Файл не найден!».\n",
        "\n",
        "**ОБЯЗАТЕЛЬНО:**\n",
        "- Протестируйте с существующим файлом\n",
        "- Протестируйте с несуществующим файлом\n",
        "- Покажите содержимое существующего файла"
      ]
    },
    {
      "cell_type": "code",
      "execution_count": null,
      "id": "0c262bd2",
      "metadata": {
        "id": "0c262bd2",
        "outputId": "d66cdc26-5ce4-412c-c6bf-0b7e8dba8c76",
        "colab": {
          "base_uri": "https://localhost:8080/"
        }
      },
      "outputs": [
        {
          "output_type": "stream",
          "name": "stdout",
          "text": [
            "Введите имя файла для открытия: output.txt\n",
            "\n",
            "Содержимое файла:\n",
            "машина самолет кукареку\n",
            "человек хайп снегокат\n",
            "питон зебра крот\n",
            "слово строчка буква\n",
            "крутой великолепный пес\n",
            "большой плед дом пес\n",
            "сосиска гречка\n",
            "гвоздь английский самолет\n",
            "файл назад шаг кукареку\n",
            "думать мыслить козел\n",
            "\n"
          ]
        }
      ],
      "source": [
        "filename = input(\"Введите имя файла для открытия: \")\n",
        "\n",
        "try:\n",
        "    with open(filename, \"r\", encoding=\"utf-8\") as f:\n",
        "        content = f.read()\n",
        "        print(\"\\nСодержимое файла:\")\n",
        "        print(content)\n",
        "except FileNotFoundError:\n",
        "    print(\"Файл не найден\")\n"
      ]
    },
    {
      "cell_type": "markdown",
      "source": [],
      "metadata": {
        "id": "ztx1zJicYudn"
      },
      "id": "ztx1zJicYudn"
    },
    {
      "cell_type": "markdown",
      "id": "c3258b46",
      "metadata": {
        "id": "c3258b46"
      },
      "source": [
        "---"
      ]
    },
    {
      "cell_type": "markdown",
      "id": "02e0767b",
      "metadata": {
        "id": "02e0767b"
      },
      "source": [
        "### **Пункт №7. Подсчет статистики файла**"
      ]
    },
    {
      "cell_type": "markdown",
      "id": "1c33b711",
      "metadata": {
        "id": "1c33b711"
      },
      "source": [
        "Напишите функцию `file_statistics(filename)`, которая читает текстовый файл и возвращает словарь со статистикой:\n",
        "- Количество строк\n",
        "- Количество слов\n",
        "- Количество символов (с пробелами и без)\n",
        "\n",
        "**ОБЯЗАТЕЛЬНО:**\n",
        "- Создайте тестовый файл с минимум 5 строками текста\n",
        "- Выведите содержимое файла ДО обработки\n",
        "- Выведите полученную статистику\n",
        "- Обработайте случай несуществующего файла\n",
        "\n",
        "```python\n",
        "# Создание тестового файла\n",
        "test_content = \"\"\"Первая строка текста\n",
        "Вторая строка с большим количеством слов\n",
        "Третья строка\n",
        "Четвертая строка для теста\n",
        "Пятая и последняя строка\"\"\"\n",
        "\n",
        "# Сохраните в файл и продемонстрируйте работу\n",
        "```"
      ]
    },
    {
      "cell_type": "code",
      "execution_count": null,
      "id": "43bfd6b8",
      "metadata": {
        "id": "43bfd6b8",
        "outputId": "e1655d0f-5cf1-4497-b34a-f23681046814",
        "colab": {
          "base_uri": "https://localhost:8080/"
        }
      },
      "outputs": [
        {
          "output_type": "stream",
          "name": "stdout",
          "text": [
            "Содержимое файла:\n",
            "\n",
            "Первая строка текста\n",
            "Вторая строка с большим количеством слов\n",
            "Третья строка\n",
            "Четвертая строка для теста\n",
            "Пятая и последняя строка\n",
            "\n",
            "Статистика файла:\n",
            "Количество строк: 5\n",
            "Количество слов: 19\n",
            "Количество символов с пробелами: 127\n",
            "Количество символов без пробелов: 109\n"
          ]
        }
      ],
      "source": [
        "def file_statistics(filename):\n",
        "    stats = {}\n",
        "    try:\n",
        "        with open(filename, \"r\", encoding=\"utf-8\") as f:\n",
        "            lines = f.readlines()\n",
        "            stats['lines'] = len(lines)\n",
        "            stats['words'] = sum(len(line.split()) for line in lines)\n",
        "            stats['chars_with_spaces'] = sum(len(line) for line in lines)\n",
        "            stats['chars_without_spaces'] = sum(len(line.replace(\" \", \"\").replace(\"\\n\",\"\")) for line in lines)\n",
        "    except FileNotFoundError:\n",
        "        print(f\"Ошибка: файл '{filename}' не найден\")\n",
        "        return None\n",
        "    return stats\n",
        "\n",
        "test_content = \"\"\"Первая строка текста\n",
        "Вторая строка с большим количеством слов\n",
        "Третья строка\n",
        "Четвертая строка для теста\n",
        "Пятая и последняя строка\"\"\"\n",
        "\n",
        "test_file = \"test_file.txt\"\n",
        "with open(test_file, \"w\", encoding=\"utf-8\") as f:\n",
        "    f.write(test_content)\n",
        "\n",
        "print(\"Содержимое файла:\\n\")\n",
        "with open(test_file, \"r\", encoding=\"utf-8\") as f:\n",
        "    print(f.read())\n",
        "\n",
        "stats = file_statistics(test_file)\n",
        "if stats:\n",
        "    print(\"\\nСтатистика файла:\")\n",
        "    print(f\"Количество строк: {stats['lines']}\")\n",
        "    print(f\"Количество слов: {stats['words']}\")\n",
        "    print(f\"Количество символов с пробелами: {stats['chars_with_spaces']}\")\n",
        "    print(f\"Количество символов без пробелов: {stats['chars_without_spaces']}\")\n"
      ]
    },
    {
      "cell_type": "markdown",
      "id": "903281dd",
      "metadata": {
        "id": "903281dd"
      },
      "source": [
        "---"
      ]
    },
    {
      "cell_type": "markdown",
      "id": "ad8b4ae4",
      "metadata": {
        "id": "ad8b4ae4"
      },
      "source": [
        "### **Пункт №8. Поиск и замена в файле**"
      ]
    },
    {
      "cell_type": "markdown",
      "id": "e5230d0a",
      "metadata": {
        "id": "e5230d0a"
      },
      "source": [
        "Напишите функцию `replace_in_file(filename, old_text, new_text)`, которая заменяет все вхождения `old_text` на `new_text` в файле и сохраняет результат в новый файл с префиксом \"modified_\".\n",
        "\n",
        "**ОБЯЗАТЕЛЬНО:**\n",
        "- Создайте файл с текстом, содержащим минимум 3 вхождения заменяемого слова\n",
        "- Выведите содержимое файла ДО замены\n",
        "- Выполните замену\n",
        "- Выведите содержимое файла ПОСЛЕ замены\n",
        "- Покажите количество произведенных замен"
      ]
    },
    {
      "cell_type": "code",
      "execution_count": null,
      "id": "64a05e35",
      "metadata": {
        "id": "64a05e35",
        "outputId": "2c7c9cb4-9c61-4476-fa7d-5e99f7cdee3a",
        "colab": {
          "base_uri": "https://localhost:8080/"
        }
      },
      "outputs": [
        {
          "output_type": "stream",
          "name": "stdout",
          "text": [
            "Содержимое файла ДО замены:\n",
            "\n",
            "рожки это круто.\n",
            "Я люблю рожки.\n",
            "рожки очень вкусные.\n",
            "\n",
            "\n",
            "Количество произведенных замен: 3\n",
            "\n",
            "Содержимое файла ПОСЛЕ замены:\n",
            "\n",
            "спагетти это круто.\n",
            "Я люблю спагетти.\n",
            "спагетти очень вкусные.\n",
            "\n"
          ]
        }
      ],
      "source": [
        "def replace_in_file(filename, old_text, new_text):\n",
        "    try:\n",
        "        with open(filename, \"r\", encoding=\"utf-8\") as f:\n",
        "            content = f.read()\n",
        "\n",
        "        count = content.count(old_text)\n",
        "        if count == 0:\n",
        "            print(f\"Слово '{old_text}' не найдено в файле.\")\n",
        "        content_modified = content.replace(old_text, new_text)\n",
        "\n",
        "        new_filename = \"modified_\" + filename\n",
        "        with open(new_filename, \"w\", encoding=\"utf-8\") as f:\n",
        "            f.write(content_modified)\n",
        "\n",
        "        print(f\"\\nКоличество произведенных замен: {count}\")\n",
        "        return new_filename, count\n",
        "    except FileNotFoundError:\n",
        "        print(f\"Ошибка: файл '{filename}' не найден!\")\n",
        "        return None, 0\n",
        "\n",
        "test_file = \"test_replace.txt\"\n",
        "with open(test_file, \"w\", encoding=\"utf-8\") as f:\n",
        "    f.write(\"рожки это круто.\\n\")\n",
        "    f.write(\"Я люблю рожки.\\n\")\n",
        "    f.write(\"рожки очень вкусные.\\n\")\n",
        "\n",
        "print(\"Содержимое файла ДО замены:\\n\")\n",
        "with open(test_file, \"r\", encoding=\"utf-8\") as f:\n",
        "    print(f.read())\n",
        "\n",
        "new_file, replacements = replace_in_file(test_file, \"рожки\", \"спагетти\")\n",
        "\n",
        "if new_file:\n",
        "    print(\"\\nСодержимое файла ПОСЛЕ замены:\\n\")\n",
        "    with open(new_file, \"r\", encoding=\"utf-8\") as f:\n",
        "        print(f.read())\n"
      ]
    },
    {
      "cell_type": "markdown",
      "id": "f77b0568",
      "metadata": {
        "id": "f77b0568"
      },
      "source": [
        "---"
      ]
    },
    {
      "cell_type": "markdown",
      "id": "79a081b1",
      "metadata": {
        "id": "79a081b1"
      },
      "source": [
        "### **Пункт №9. Объединение файлов**"
      ]
    },
    {
      "cell_type": "markdown",
      "id": "599cee3c",
      "metadata": {
        "id": "599cee3c"
      },
      "source": [
        "Создайте функцию `merge_files(file_list, output_file)`, которая объединяет содержимое нескольких текстовых файлов в один, добавляя после каждого разделитель.\n",
        "\n",
        "**ОБЯЗАТЕЛЬНО:**\n",
        "- Создайте минимум 3 файла с разным содержимым\n",
        "- Выведите содержимое КАЖДОГО исходного файла\n",
        "- Выполните объединение\n",
        "- Выведите содержимое результирующего файла"
      ]
    },
    {
      "cell_type": "code",
      "execution_count": null,
      "id": "581b5868",
      "metadata": {
        "id": "581b5868",
        "outputId": "9b097057-654b-40b8-c427-af87f82fd2e0",
        "colab": {
          "base_uri": "https://localhost:8080/"
        }
      },
      "outputs": [
        {
          "output_type": "stream",
          "name": "stdout",
          "text": [
            "\n",
            "Содержимое file1.txt:\n",
            "Содержимое первого файла\n",
            "Строка 2\n",
            "\n",
            "Содержимое file2.txt:\n",
            "Файл второй содержит другие строки\n",
            "Еще одна строка\n",
            "\n",
            "Содержимое file3.txt:\n",
            "Третий файл для теста\n",
            "Последняя строка\n",
            "\n",
            "Объединение завершено. Результат сохранен в 'merged_output.txt'.\n",
            "\n",
            "Содержимое объединенного файла:\n",
            "Содержимое первого файла\n",
            "Строка 2\n",
            "--------------------\n",
            "Файл второй содержит другие строки\n",
            "Еще одна строка\n",
            "--------------------\n",
            "Третий файл для теста\n",
            "Последняя строка\n",
            "--------------------\n",
            "\n"
          ]
        }
      ],
      "source": [
        "def merge_files(file_list, output_file):\n",
        "    try:\n",
        "        with open(output_file, \"w\", encoding=\"utf-8\") as outfile:\n",
        "            for fname in file_list:\n",
        "                try:\n",
        "                    with open(fname, \"r\", encoding=\"utf-8\") as infile:\n",
        "                        content = infile.read()\n",
        "                        outfile.write(content + \"\\n\")\n",
        "                        outfile.write(\"-\" * 20 + \"\\n\")\n",
        "                except FileNotFoundError:\n",
        "                    print(f\"Ошибка: файл '{fname}' не найден\")\n",
        "        print(f\"\\nОбъединение завершено. Результат сохранен в '{output_file}'.\")\n",
        "    except Exception as e:\n",
        "        print(\"Ошибка при создании выходного файла:\", e)\n",
        "\n",
        "files = [\"file1.txt\", \"file2.txt\", \"file3.txt\"]\n",
        "contents = [\n",
        "    \"Содержимое первого файла\\nСтрока 2\",\n",
        "    \"Файл второй содержит другие строки\\nЕще одна строка\",\n",
        "    \"Третий файл для теста\\nПоследняя строка\"]\n",
        "\n",
        "for fname, text in zip(files, contents):\n",
        "    with open(fname, \"w\", encoding=\"utf-8\") as f:\n",
        "        f.write(text)\n",
        "\n",
        "for fname in files:\n",
        "    print(f\"\\nСодержимое {fname}:\")\n",
        "    with open(fname, \"r\", encoding=\"utf-8\") as f:\n",
        "        print(f.read())\n",
        "\n",
        "merge_files(files, \"merged_output.txt\")\n",
        "\n",
        "print(\"\\nСодержимое объединенного файла:\")\n",
        "with open(\"merged_output.txt\", \"r\", encoding=\"utf-8\") as f:\n",
        "    print(f.read())\n"
      ]
    },
    {
      "cell_type": "markdown",
      "id": "eb866091",
      "metadata": {
        "id": "eb866091"
      },
      "source": [
        "---"
      ]
    }
  ],
  "metadata": {
    "colab": {
      "provenance": [],
      "include_colab_link": true
    },
    "language_info": {
      "name": "python"
    },
    "kernelspec": {
      "name": "python3",
      "display_name": "Python 3"
    }
  },
  "nbformat": 4,
  "nbformat_minor": 5
}